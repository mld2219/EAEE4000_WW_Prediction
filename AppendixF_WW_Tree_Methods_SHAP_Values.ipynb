{
 "cells": [
  {
   "cell_type": "markdown",
   "id": "3a19c807",
   "metadata": {},
   "source": [
    "# Tree Based Methods for TKN Prediction in Influent Wastewater"
   ]
  },
  {
   "cell_type": "markdown",
   "id": "e49bbf0d",
   "metadata": {},
   "source": [
    "Model Iteration No. 1 - This code uses all project feature inputs (BOD5, CBOD5, VTS, SS, VSS, TS, P-TOT, P-SOL). This code served as the first step. See below for SHAP value evaluations. These evaluations inform Appendix G, Model Iteration No. 2, which is the final project model."
   ]
  },
  {
   "cell_type": "code",
   "execution_count": 26,
   "id": "014f0de7",
   "metadata": {},
   "outputs": [],
   "source": [
    "import numpy as np\n",
    "import pandas as pd\n",
    "import matplotlib.pyplot as plt\n",
    "import seaborn as sns\n",
    "\n",
    "from tensorflow import keras\n",
    "\n",
    "# For random forest\n",
    "from sklearn.ensemble import RandomForestRegressor\n",
    "from sklearn.tree import plot_tree\n",
    "\n",
    "# For gradient boosting \n",
    "from xgboost import XGBRegressor\n",
    "\n",
    "# For evaluation \n",
    "from sklearn.metrics import mean_squared_error\n",
    "from sklearn.metrics import mean_absolute_error\n",
    "from sklearn.metrics import r2_score"
   ]
  },
  {
   "cell_type": "code",
   "execution_count": 27,
   "id": "99feec79",
   "metadata": {},
   "outputs": [],
   "source": [
    "# For training data split\n",
    "import sklearn as sk\n",
    "from sklearn.model_selection import train_test_split\n",
    "from sklearn.metrics import mean_squared_error as mse"
   ]
  },
  {
   "cell_type": "markdown",
   "id": "30877276",
   "metadata": {},
   "source": [
    "# Import the Data"
   ]
  },
  {
   "cell_type": "code",
   "execution_count": 28,
   "id": "dd2d2176",
   "metadata": {},
   "outputs": [
    {
     "data": {
      "text/html": [
       "<div>\n",
       "<style scoped>\n",
       "    .dataframe tbody tr th:only-of-type {\n",
       "        vertical-align: middle;\n",
       "    }\n",
       "\n",
       "    .dataframe tbody tr th {\n",
       "        vertical-align: top;\n",
       "    }\n",
       "\n",
       "    .dataframe thead th {\n",
       "        text-align: right;\n",
       "    }\n",
       "</style>\n",
       "<table border=\"1\" class=\"dataframe\">\n",
       "  <thead>\n",
       "    <tr style=\"text-align: right;\">\n",
       "      <th></th>\n",
       "      <th>Unnamed: 0</th>\n",
       "      <th>Date</th>\n",
       "      <th>BOD5</th>\n",
       "      <th>CBOD5</th>\n",
       "      <th>SS</th>\n",
       "      <th>VSS</th>\n",
       "      <th>TS</th>\n",
       "      <th>VTS</th>\n",
       "      <th>TKN</th>\n",
       "      <th>Nitrates</th>\n",
       "      <th>P-TOT</th>\n",
       "      <th>P-SOL</th>\n",
       "    </tr>\n",
       "  </thead>\n",
       "  <tbody>\n",
       "    <tr>\n",
       "      <th>0</th>\n",
       "      <td>2672</td>\n",
       "      <td>2008-01-01</td>\n",
       "      <td>67</td>\n",
       "      <td>55</td>\n",
       "      <td>82</td>\n",
       "      <td>64</td>\n",
       "      <td>1994</td>\n",
       "      <td>188</td>\n",
       "      <td>18.53</td>\n",
       "      <td>0.72</td>\n",
       "      <td>2.65</td>\n",
       "      <td>1.155</td>\n",
       "    </tr>\n",
       "    <tr>\n",
       "      <th>1</th>\n",
       "      <td>2673</td>\n",
       "      <td>2008-01-02</td>\n",
       "      <td>77</td>\n",
       "      <td>57</td>\n",
       "      <td>70</td>\n",
       "      <td>61</td>\n",
       "      <td>1274</td>\n",
       "      <td>196</td>\n",
       "      <td>19.87</td>\n",
       "      <td>0.85</td>\n",
       "      <td>4.22</td>\n",
       "      <td>2.849</td>\n",
       "    </tr>\n",
       "    <tr>\n",
       "      <th>2</th>\n",
       "      <td>2674</td>\n",
       "      <td>2008-01-03</td>\n",
       "      <td>94</td>\n",
       "      <td>70</td>\n",
       "      <td>84</td>\n",
       "      <td>69</td>\n",
       "      <td>1096</td>\n",
       "      <td>220</td>\n",
       "      <td>21.49</td>\n",
       "      <td>0.81</td>\n",
       "      <td>5.53</td>\n",
       "      <td>3.809</td>\n",
       "    </tr>\n",
       "    <tr>\n",
       "      <th>3</th>\n",
       "      <td>2675</td>\n",
       "      <td>2008-01-04</td>\n",
       "      <td>93</td>\n",
       "      <td>64</td>\n",
       "      <td>72</td>\n",
       "      <td>54</td>\n",
       "      <td>1003</td>\n",
       "      <td>242</td>\n",
       "      <td>19.32</td>\n",
       "      <td>0.65</td>\n",
       "      <td>6.19</td>\n",
       "      <td>4.107</td>\n",
       "    </tr>\n",
       "    <tr>\n",
       "      <th>4</th>\n",
       "      <td>2676</td>\n",
       "      <td>2008-01-05</td>\n",
       "      <td>107</td>\n",
       "      <td>75</td>\n",
       "      <td>118</td>\n",
       "      <td>90</td>\n",
       "      <td>1317</td>\n",
       "      <td>280</td>\n",
       "      <td>17.13</td>\n",
       "      <td>0.31</td>\n",
       "      <td>4.16</td>\n",
       "      <td>2.183</td>\n",
       "    </tr>\n",
       "    <tr>\n",
       "      <th>...</th>\n",
       "      <td>...</td>\n",
       "      <td>...</td>\n",
       "      <td>...</td>\n",
       "      <td>...</td>\n",
       "      <td>...</td>\n",
       "      <td>...</td>\n",
       "      <td>...</td>\n",
       "      <td>...</td>\n",
       "      <td>...</td>\n",
       "      <td>...</td>\n",
       "      <td>...</td>\n",
       "      <td>...</td>\n",
       "    </tr>\n",
       "    <tr>\n",
       "      <th>4378</th>\n",
       "      <td>7706</td>\n",
       "      <td>2019-12-27</td>\n",
       "      <td>0</td>\n",
       "      <td>0</td>\n",
       "      <td>79</td>\n",
       "      <td>61</td>\n",
       "      <td>554</td>\n",
       "      <td>174</td>\n",
       "      <td>14.00</td>\n",
       "      <td>0.66</td>\n",
       "      <td>3.05</td>\n",
       "      <td>1.310</td>\n",
       "    </tr>\n",
       "    <tr>\n",
       "      <th>4379</th>\n",
       "      <td>7707</td>\n",
       "      <td>2019-12-28</td>\n",
       "      <td>62</td>\n",
       "      <td>51</td>\n",
       "      <td>48</td>\n",
       "      <td>37</td>\n",
       "      <td>570</td>\n",
       "      <td>130</td>\n",
       "      <td>18.00</td>\n",
       "      <td>0.76</td>\n",
       "      <td>4.47</td>\n",
       "      <td>2.170</td>\n",
       "    </tr>\n",
       "    <tr>\n",
       "      <th>4380</th>\n",
       "      <td>7708</td>\n",
       "      <td>2019-12-29</td>\n",
       "      <td>189</td>\n",
       "      <td>115</td>\n",
       "      <td>340</td>\n",
       "      <td>224</td>\n",
       "      <td>962</td>\n",
       "      <td>340</td>\n",
       "      <td>17.00</td>\n",
       "      <td>0.49</td>\n",
       "      <td>4.55</td>\n",
       "      <td>1.240</td>\n",
       "    </tr>\n",
       "    <tr>\n",
       "      <th>4381</th>\n",
       "      <td>7709</td>\n",
       "      <td>2019-12-30</td>\n",
       "      <td>74</td>\n",
       "      <td>47</td>\n",
       "      <td>99</td>\n",
       "      <td>68</td>\n",
       "      <td>656</td>\n",
       "      <td>164</td>\n",
       "      <td>14.00</td>\n",
       "      <td>0.88</td>\n",
       "      <td>2.70</td>\n",
       "      <td>1.070</td>\n",
       "    </tr>\n",
       "    <tr>\n",
       "      <th>4382</th>\n",
       "      <td>7710</td>\n",
       "      <td>2019-12-31</td>\n",
       "      <td>60</td>\n",
       "      <td>44</td>\n",
       "      <td>69</td>\n",
       "      <td>63</td>\n",
       "      <td>904</td>\n",
       "      <td>194</td>\n",
       "      <td>13.00</td>\n",
       "      <td>0.27</td>\n",
       "      <td>3.58</td>\n",
       "      <td>2.220</td>\n",
       "    </tr>\n",
       "  </tbody>\n",
       "</table>\n",
       "<p>4383 rows × 12 columns</p>\n",
       "</div>"
      ],
      "text/plain": [
       "      Unnamed: 0       Date  BOD5  CBOD5   SS  VSS    TS  VTS    TKN  \\\n",
       "0           2672 2008-01-01    67     55   82   64  1994  188  18.53   \n",
       "1           2673 2008-01-02    77     57   70   61  1274  196  19.87   \n",
       "2           2674 2008-01-03    94     70   84   69  1096  220  21.49   \n",
       "3           2675 2008-01-04    93     64   72   54  1003  242  19.32   \n",
       "4           2676 2008-01-05   107     75  118   90  1317  280  17.13   \n",
       "...          ...        ...   ...    ...  ...  ...   ...  ...    ...   \n",
       "4378        7706 2019-12-27     0      0   79   61   554  174  14.00   \n",
       "4379        7707 2019-12-28    62     51   48   37   570  130  18.00   \n",
       "4380        7708 2019-12-29   189    115  340  224   962  340  17.00   \n",
       "4381        7709 2019-12-30    74     47   99   68   656  164  14.00   \n",
       "4382        7710 2019-12-31    60     44   69   63   904  194  13.00   \n",
       "\n",
       "      Nitrates  P-TOT  P-SOL  \n",
       "0         0.72   2.65  1.155  \n",
       "1         0.85   4.22  2.849  \n",
       "2         0.81   5.53  3.809  \n",
       "3         0.65   6.19  4.107  \n",
       "4         0.31   4.16  2.183  \n",
       "...        ...    ...    ...  \n",
       "4378      0.66   3.05  1.310  \n",
       "4379      0.76   4.47  2.170  \n",
       "4380      0.49   4.55  1.240  \n",
       "4381      0.88   2.70  1.070  \n",
       "4382      0.27   3.58  2.220  \n",
       "\n",
       "[4383 rows x 12 columns]"
      ]
     },
     "execution_count": 28,
     "metadata": {},
     "output_type": "execute_result"
    }
   ],
   "source": [
    "influent_data = pd.read_excel(r\"C:\\Users\\18455\\EAEE4000_ML_Jupyter\\EAEE4000_WW_Prediction\\Appendix_A_Preprocessing_and_DataReview\\raw_influent.xlsx\")\n",
    "influent_data"
   ]
  },
  {
   "cell_type": "markdown",
   "id": "c9c72049",
   "metadata": {},
   "source": [
    "# Prepare the Training Data"
   ]
  },
  {
   "cell_type": "markdown",
   "id": "54fda398",
   "metadata": {},
   "source": [
    "See all project input features used here."
   ]
  },
  {
   "cell_type": "code",
   "execution_count": 29,
   "id": "905ccf16",
   "metadata": {},
   "outputs": [],
   "source": [
    "# Prepare the training set\n",
    "X = influent_data[['SS','VSS','VTS','TS','BOD5','CBOD5','P-TOT','P-SOL']]\n",
    "Y = influent_data[['TKN']]\n",
    "X_train_df, X_test_df, Y_train_df, Y_test_df = train_test_split(X, Y,\n",
    " test_size = 0.2, random_state=0, shuffle=False)"
   ]
  },
  {
   "cell_type": "code",
   "execution_count": 30,
   "id": "80a8a572",
   "metadata": {},
   "outputs": [
    {
     "name": "stdout",
     "output_type": "stream",
     "text": [
      "(3506, 8) (3506, 1)\n",
      "(877, 8) (877, 1)\n"
     ]
    }
   ],
   "source": [
    "# Normalize the data\n",
    "mean_x, std_x = X_train_df.mean(), X_train_df.std()\n",
    "mean_y, std_y = Y_train_df.mean(), Y_train_df.std()\n",
    "X_train_df = (X_train_df - mean_x)/std_x\n",
    "X_test_df = (X_test_df - mean_x)/std_x\n",
    "Y_train_df = (Y_train_df - mean_y)/std_y\n",
    "Y_test_df = (Y_test_df - mean_y)/std_y\n",
    "X_train = X_train_df.to_numpy()\n",
    "Y_train = Y_train_df.to_numpy()\n",
    "X_test = X_test_df.to_numpy()\n",
    "Y_test = Y_test_df.to_numpy()\n",
    "print(X_train.shape, Y_train.shape)\n",
    "print(X_test.shape, Y_test.shape, )"
   ]
  },
  {
   "cell_type": "markdown",
   "id": "f2b45c72",
   "metadata": {},
   "source": [
    "# Random Forest Regression Model"
   ]
  },
  {
   "cell_type": "markdown",
   "id": "12d8bb39",
   "metadata": {},
   "source": [
    "Set Hyperparameters and Model Architecture\n",
    "​"
   ]
  },
  {
   "cell_type": "code",
   "execution_count": 31,
   "id": "de4cf594",
   "metadata": {},
   "outputs": [],
   "source": [
    "# RFR MODEL\n",
    "# RFR parameters (random forest regression)\n",
    "params_rfr = {'n_estimators':1000,\n",
    "              'criterion':'squared_error', \n",
    "              'max_depth': 12,         \n",
    "              'min_samples_leaf':3,\n",
    "              'min_samples_split':5,\n",
    "              'bootstrap':True,\n",
    "              'max_features':None}"
   ]
  },
  {
   "cell_type": "markdown",
   "id": "6b66cbe0",
   "metadata": {},
   "source": [
    "Evaluate the Model"
   ]
  },
  {
   "cell_type": "code",
   "execution_count": 32,
   "id": "8ef6d703",
   "metadata": {},
   "outputs": [
    {
     "data": {
      "text/plain": [
       "RandomForestRegressor(max_depth=12, max_features=None, min_samples_leaf=3,\n",
       "                      min_samples_split=5, n_estimators=1000)"
      ]
     },
     "execution_count": 32,
     "metadata": {},
     "output_type": "execute_result"
    }
   ],
   "source": [
    "rf_model = RandomForestRegressor(**params_rfr)\n",
    "rf_model"
   ]
  },
  {
   "cell_type": "code",
   "execution_count": 33,
   "id": "139aec8c",
   "metadata": {},
   "outputs": [
    {
     "name": "stderr",
     "output_type": "stream",
     "text": [
      "A column-vector y was passed when a 1d array was expected. Please change the shape of y to (n_samples,), for example using ravel().\n"
     ]
    },
    {
     "name": "stdout",
     "output_type": "stream",
     "text": [
      "CPU times: total: 12.3 s\n",
      "Wall time: 12.3 s\n"
     ]
    }
   ],
   "source": [
    "%%time\n",
    "history = rf_model.fit(X_train, Y_train)"
   ]
  },
  {
   "cell_type": "markdown",
   "id": "beae082d",
   "metadata": {},
   "source": [
    "Make Predictions"
   ]
  },
  {
   "cell_type": "code",
   "execution_count": 34,
   "id": "118c1a04",
   "metadata": {},
   "outputs": [
    {
     "data": {
      "image/png": "[encoded data removed]",
      "text/plain": [
       "<Figure size 640x480 with 1 Axes>"
      ]
     },
     "metadata": {},
     "output_type": "display_data"
    }
   ],
   "source": [
    "test_predictions = rf_model.predict(X_test)\n",
    "\n",
    "plt.scatter(Y_test, test_predictions)\n",
    "plt.xlabel('True TKN')\n",
    "plt.ylabel('Predicted TKN')\n",
    "plt.axis('equal')\n",
    "plt.xlim(plt.xlim())\n",
    "plt.ylim(plt.ylim())\n",
    "_ = plt.plot([-100, 100], [-100, 100])"
   ]
  },
  {
   "cell_type": "code",
   "execution_count": 35,
   "id": "3f0132b2",
   "metadata": {},
   "outputs": [
    {
     "name": "stdout",
     "output_type": "stream",
     "text": [
      "The mse is: 0.11579398718785443\n"
     ]
    }
   ],
   "source": [
    "mse = mean_squared_error(Y_test, test_predictions)\n",
    "print('The mse is:', mse)"
   ]
  },
  {
   "cell_type": "code",
   "execution_count": 36,
   "id": "5466eb2b",
   "metadata": {},
   "outputs": [
    {
     "name": "stdout",
     "output_type": "stream",
     "text": [
      "MSE: 0.11579398718785443\n",
      "RMSE: 0.3402851556971806\n",
      "MAE: 0.22342004052798445\n",
      "R-SQ: 0.8379591913222264\n"
     ]
    }
   ],
   "source": [
    "# Print out the prediction scores\n",
    "print('MSE: {}'.format(mean_squared_error(Y_test, test_predictions)))\n",
    "print('RMSE: {}'.format(np.sqrt(mean_squared_error(Y_test, test_predictions))))\n",
    "print('MAE: {}'.format(mean_absolute_error(Y_test, test_predictions)))\n",
    "print('R-SQ: {}'.format(r2_score(Y_test, test_predictions)))"
   ]
  },
  {
   "cell_type": "markdown",
   "id": "c69ef39c",
   "metadata": {},
   "source": [
    "Understand Feature Importance"
   ]
  },
  {
   "cell_type": "code",
   "execution_count": 43,
   "id": "f58deb7e",
   "metadata": {},
   "outputs": [],
   "source": [
    "def plot_feature_importance(importance, names):\n",
    "    '''\n",
    "    this code is from here: \n",
    "    https://www.analyseup.com/learn-python-for-data-science/python-random-forest-feature-importance-plot.html\n",
    "    '''\n",
    "    #Create arrays from feature importance and feature names\n",
    "    feature_importance = np.array(importance)\n",
    "    feature_names = np.array(names)\n",
    "\n",
    "    #Create a DataFrame using a Dictionary\n",
    "    data={'feature_names':feature_names,'feature_importance':feature_importance}\n",
    "    fi_df = pd.DataFrame(data)\n",
    "\n",
    "    #Sort the DataFrame in order decreasing feature importance\n",
    "    fi_df.sort_values(by=['feature_importance'], ascending=False,inplace=True)\n",
    "\n",
    "    #Define size of bar plot\n",
    "    plt.figure(figsize=(10,8))\n",
    "    #Plot Searborn bar chart\n",
    "    sns.barplot(x=fi_df['feature_importance'], y=fi_df['feature_names'])\n",
    "    #Add chart labels\n",
    "    plt.title('FEATURE IMPORTANCE')\n",
    "    plt.xlabel('FEATURE IMPORTANCE')\n",
    "    plt.ylabel('FEATURE NAMES')\n",
    "    plt.show()"
   ]
  },
  {
   "cell_type": "code",
   "execution_count": 45,
   "id": "37435742",
   "metadata": {},
   "outputs": [
    {
     "data": {
      "image/png": "[encoded data removed]",
      "text/plain": [
       "<Figure size 1000x800 with 1 Axes>"
      ]
     },
     "metadata": {},
     "output_type": "display_data"
    }
   ],
   "source": [
    "col = ['SS','VSS','VTS','TS','BOD5','CBOD5','P-TOT','P-SOL']\n",
    "data = pd.DataFrame(X_train, columns=col)\n",
    "plot_feature_importance(rf_model.feature_importances_, data.columns)"
   ]
  },
  {
   "cell_type": "markdown",
   "id": "36ace9c8",
   "metadata": {},
   "source": [
    "SHAP Evaluation"
   ]
  },
  {
   "cell_type": "code",
   "execution_count": 46,
   "id": "0fd43774",
   "metadata": {},
   "outputs": [],
   "source": [
    "import shap"
   ]
  },
  {
   "cell_type": "code",
   "execution_count": 49,
   "id": "117e1f67",
   "metadata": {},
   "outputs": [
    {
     "name": "stderr",
     "output_type": "stream",
     "text": [
      "Exact explainer: 878it [33:03,  2.27s/it]                                                                              \n"
     ]
    }
   ],
   "source": [
    "# Run the explainer to calculate the SHAP values\n",
    "explainer = shap.Explainer(rf_model.predict, X_test)\n",
    "rf_shap_values = explainer(X_test)"
   ]
  },
  {
   "cell_type": "code",
   "execution_count": 62,
   "id": "e79d2981",
   "metadata": {},
   "outputs": [
    {
     "data": {
      "image/png": "[encoded data removed]",
      "text/plain": [
       "<Figure size 800x550 with 1 Axes>"
      ]
     },
     "metadata": {},
     "output_type": "display_data"
    }
   ],
   "source": [
    "plt.title(\"SHAP Values Review for Model Refinement\")\n",
    "shap.plots.bar(rf_shap_values)"
   ]
  },
  {
   "cell_type": "markdown",
   "id": "939d13ac",
   "metadata": {},
   "source": [
    "# XGB Gradient Boosting"
   ]
  },
  {
   "cell_type": "markdown",
   "id": "2f008bfa",
   "metadata": {},
   "source": [
    "Set Hyperparameters and Model Architecture​"
   ]
  },
  {
   "cell_type": "code",
   "execution_count": 37,
   "id": "da4e71c3",
   "metadata": {},
   "outputs": [],
   "source": [
    "# XGB parameters (extreme gradient boosting)\n",
    "params_xgb = {'objective': 'reg:squarederror',\n",
    "              'n_estimators': 2000,  # number of trees \n",
    "              'learning_rate': 0.01, \n",
    "              'max_depth': 5,       # levels in each tree\n",
    "              'reg_alpha': 1,\n",
    "              'reg_lambda': 0,}"
   ]
  },
  {
   "cell_type": "markdown",
   "id": "57c41a95",
   "metadata": {},
   "source": [
    "Evaluate the Model"
   ]
  },
  {
   "cell_type": "code",
   "execution_count": 38,
   "id": "fa195b00",
   "metadata": {},
   "outputs": [],
   "source": [
    "xgb_model = XGBRegressor(**params_xgb)"
   ]
  },
  {
   "cell_type": "code",
   "execution_count": 39,
   "id": "03c9080b",
   "metadata": {},
   "outputs": [
    {
     "name": "stdout",
     "output_type": "stream",
     "text": [
      "CPU times: total: 32.2 s\n",
      "Wall time: 4.21 s\n"
     ]
    },
    {
     "data": {
      "text/plain": [
       "XGBRegressor(base_score=0.5, booster='gbtree', callbacks=None,\n",
       "             colsample_bylevel=1, colsample_bynode=1, colsample_bytree=1,\n",
       "             early_stopping_rounds=None, enable_categorical=False,\n",
       "             eval_metric=None, gamma=0, gpu_id=-1, grow_policy='depthwise',\n",
       "             importance_type=None, interaction_constraints='',\n",
       "             learning_rate=0.01, max_bin=256, max_cat_to_onehot=4,\n",
       "             max_delta_step=0, max_depth=5, max_leaves=0, min_child_weight=1,\n",
       "             missing=nan, monotone_constraints='()', n_estimators=2000,\n",
       "             n_jobs=0, num_parallel_tree=1, predictor='auto', random_state=0,\n",
       "             reg_alpha=1, reg_lambda=0, ...)"
      ]
     },
     "execution_count": 39,
     "metadata": {},
     "output_type": "execute_result"
    }
   ],
   "source": [
    "%%time\n",
    "xgb_model.fit(X_train, Y_train)"
   ]
  },
  {
   "cell_type": "markdown",
   "id": "c0fe053e",
   "metadata": {},
   "source": [
    "Make Predictions"
   ]
  },
  {
   "cell_type": "code",
   "execution_count": 40,
   "id": "0a97e7c4",
   "metadata": {},
   "outputs": [
    {
     "data": {
      "image/png": "[encoded data removed]",
      "text/plain": [
       "<Figure size 640x480 with 1 Axes>"
      ]
     },
     "metadata": {},
     "output_type": "display_data"
    }
   ],
   "source": [
    "test_predict_XG = xgb_model.predict(X_test)\n",
    "\n",
    "plt.scatter(Y_test, test_predict_XG)\n",
    "plt.xlabel('True TKN')\n",
    "plt.ylabel('Predicted TKN')\n",
    "plt.axis('equal')\n",
    "plt.xlim(plt.xlim())\n",
    "plt.ylim(plt.ylim())\n",
    "_ = plt.plot([-100, 100], [-100, 100])"
   ]
  },
  {
   "cell_type": "code",
   "execution_count": 41,
   "id": "50cca022",
   "metadata": {},
   "outputs": [
    {
     "data": {
      "text/plain": [
       "0.08621848121181844"
      ]
     },
     "execution_count": 41,
     "metadata": {},
     "output_type": "execute_result"
    }
   ],
   "source": [
    "mse = mean_squared_error(Y_test, test_predict_XG)\n",
    "mse"
   ]
  },
  {
   "cell_type": "code",
   "execution_count": 42,
   "id": "18696925",
   "metadata": {},
   "outputs": [
    {
     "name": "stdout",
     "output_type": "stream",
     "text": [
      "MSE: 0.08621848121181844\n",
      "RMSE: 0.2936298370598915\n",
      "MAE: 0.2142687364000952\n",
      "R-SQ: 0.879346823113818\n"
     ]
    }
   ],
   "source": [
    "# print out the prediction scores\n",
    "print('MSE: {}'.format(mean_squared_error(Y_test, test_predict_XG)))\n",
    "print('RMSE: {}'.format(np.sqrt(mean_squared_error(Y_test, test_predict_XG))))\n",
    "print('MAE: {}'.format(mean_absolute_error(Y_test, test_predict_XG)))\n",
    "print('R-SQ: {}'.format(r2_score(Y_test, test_predict_XG)))"
   ]
  },
  {
   "cell_type": "code",
   "execution_count": null,
   "id": "86836cdd",
   "metadata": {},
   "outputs": [],
   "source": []
  }
 ],
 "metadata": {
  "kernelspec": {
   "display_name": "keras",
   "language": "python",
   "name": "keras"
  },
  "language_info": {
   "codemirror_mode": {
    "name": "ipython",
    "version": 3
   },
   "file_extension": ".py",
   "mimetype": "text/x-python",
   "name": "python",
   "nbconvert_exporter": "python",
   "pygments_lexer": "ipython3",
   "version": "3.10.8"
  }
 },
 "nbformat": 4,
 "nbformat_minor": 5
}
