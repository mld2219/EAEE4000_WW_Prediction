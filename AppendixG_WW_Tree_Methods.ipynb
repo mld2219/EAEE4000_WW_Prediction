{
 "cells": [
  {
   "cell_type": "markdown",
   "id": "3a19c807",
   "metadata": {},
   "source": [
    "# Tree Based Methods for TKN Prediction in Influent Wastewater"
   ]
  },
  {
   "cell_type": "markdown",
   "id": "c8123be3",
   "metadata": {},
   "source": [
    "Model Iteration No. 2 - This code uses top 3 SHAP values as project feature inputs (P-TOT, CBOD5, VTS). See Appendix F for SHAP value analysis conducted in Model Iteration 1."
   ]
  },
  {
   "cell_type": "code",
   "execution_count": 124,
   "id": "014f0de7",
   "metadata": {},
   "outputs": [],
   "source": [
    "import numpy as np\n",
    "import pandas as pd\n",
    "import matplotlib.pyplot as plt\n",
    "import seaborn as sns\n",
    "\n",
    "from tensorflow import keras\n",
    "\n",
    "# For random forest\n",
    "from sklearn.ensemble import RandomForestRegressor\n",
    "from sklearn.tree import plot_tree\n",
    "\n",
    "# For gradient boosting \n",
    "from xgboost import XGBRegressor\n",
    "\n",
    "# For evaluation \n",
    "from sklearn.metrics import mean_squared_error\n",
    "from sklearn.metrics import mean_absolute_error\n",
    "from sklearn.metrics import r2_score\n",
    "\n",
    "# For hyperparameter tuning\n",
    "import optuna\n",
    "import sklearn"
   ]
  },
  {
   "cell_type": "code",
   "execution_count": 125,
   "id": "99feec79",
   "metadata": {},
   "outputs": [],
   "source": [
    "# For training data split\n",
    "import sklearn as sk\n",
    "from sklearn.model_selection import train_test_split\n",
    "from sklearn.metrics import mean_squared_error as mse"
   ]
  },
  {
   "cell_type": "markdown",
   "id": "30877276",
   "metadata": {},
   "source": [
    "# Import the Data"
   ]
  },
  {
   "cell_type": "code",
   "execution_count": 299,
   "id": "dd2d2176",
   "metadata": {},
   "outputs": [
    {
     "data": {
      "text/html": [
       "<div>\n",
       "<style scoped>\n",
       "    .dataframe tbody tr th:only-of-type {\n",
       "        vertical-align: middle;\n",
       "    }\n",
       "\n",
       "    .dataframe tbody tr th {\n",
       "        vertical-align: top;\n",
       "    }\n",
       "\n",
       "    .dataframe thead th {\n",
       "        text-align: right;\n",
       "    }\n",
       "</style>\n",
       "<table border=\"1\" class=\"dataframe\">\n",
       "  <thead>\n",
       "    <tr style=\"text-align: right;\">\n",
       "      <th></th>\n",
       "      <th>Unnamed: 0</th>\n",
       "      <th>Date</th>\n",
       "      <th>BOD5</th>\n",
       "      <th>CBOD5</th>\n",
       "      <th>SS</th>\n",
       "      <th>VSS</th>\n",
       "      <th>TS</th>\n",
       "      <th>VTS</th>\n",
       "      <th>TKN</th>\n",
       "      <th>Nitrates</th>\n",
       "      <th>P-TOT</th>\n",
       "      <th>P-SOL</th>\n",
       "    </tr>\n",
       "  </thead>\n",
       "  <tbody>\n",
       "    <tr>\n",
       "      <th>0</th>\n",
       "      <td>2672</td>\n",
       "      <td>2008-01-01</td>\n",
       "      <td>67</td>\n",
       "      <td>55</td>\n",
       "      <td>82</td>\n",
       "      <td>64</td>\n",
       "      <td>1994</td>\n",
       "      <td>188</td>\n",
       "      <td>18.53</td>\n",
       "      <td>0.72</td>\n",
       "      <td>2.65</td>\n",
       "      <td>1.155</td>\n",
       "    </tr>\n",
       "    <tr>\n",
       "      <th>1</th>\n",
       "      <td>2673</td>\n",
       "      <td>2008-01-02</td>\n",
       "      <td>77</td>\n",
       "      <td>57</td>\n",
       "      <td>70</td>\n",
       "      <td>61</td>\n",
       "      <td>1274</td>\n",
       "      <td>196</td>\n",
       "      <td>19.87</td>\n",
       "      <td>0.85</td>\n",
       "      <td>4.22</td>\n",
       "      <td>2.849</td>\n",
       "    </tr>\n",
       "    <tr>\n",
       "      <th>2</th>\n",
       "      <td>2674</td>\n",
       "      <td>2008-01-03</td>\n",
       "      <td>94</td>\n",
       "      <td>70</td>\n",
       "      <td>84</td>\n",
       "      <td>69</td>\n",
       "      <td>1096</td>\n",
       "      <td>220</td>\n",
       "      <td>21.49</td>\n",
       "      <td>0.81</td>\n",
       "      <td>5.53</td>\n",
       "      <td>3.809</td>\n",
       "    </tr>\n",
       "    <tr>\n",
       "      <th>3</th>\n",
       "      <td>2675</td>\n",
       "      <td>2008-01-04</td>\n",
       "      <td>93</td>\n",
       "      <td>64</td>\n",
       "      <td>72</td>\n",
       "      <td>54</td>\n",
       "      <td>1003</td>\n",
       "      <td>242</td>\n",
       "      <td>19.32</td>\n",
       "      <td>0.65</td>\n",
       "      <td>6.19</td>\n",
       "      <td>4.107</td>\n",
       "    </tr>\n",
       "    <tr>\n",
       "      <th>4</th>\n",
       "      <td>2676</td>\n",
       "      <td>2008-01-05</td>\n",
       "      <td>107</td>\n",
       "      <td>75</td>\n",
       "      <td>118</td>\n",
       "      <td>90</td>\n",
       "      <td>1317</td>\n",
       "      <td>280</td>\n",
       "      <td>17.13</td>\n",
       "      <td>0.31</td>\n",
       "      <td>4.16</td>\n",
       "      <td>2.183</td>\n",
       "    </tr>\n",
       "    <tr>\n",
       "      <th>...</th>\n",
       "      <td>...</td>\n",
       "      <td>...</td>\n",
       "      <td>...</td>\n",
       "      <td>...</td>\n",
       "      <td>...</td>\n",
       "      <td>...</td>\n",
       "      <td>...</td>\n",
       "      <td>...</td>\n",
       "      <td>...</td>\n",
       "      <td>...</td>\n",
       "      <td>...</td>\n",
       "      <td>...</td>\n",
       "    </tr>\n",
       "    <tr>\n",
       "      <th>4378</th>\n",
       "      <td>7706</td>\n",
       "      <td>2019-12-27</td>\n",
       "      <td>0</td>\n",
       "      <td>0</td>\n",
       "      <td>79</td>\n",
       "      <td>61</td>\n",
       "      <td>554</td>\n",
       "      <td>174</td>\n",
       "      <td>14.00</td>\n",
       "      <td>0.66</td>\n",
       "      <td>3.05</td>\n",
       "      <td>1.310</td>\n",
       "    </tr>\n",
       "    <tr>\n",
       "      <th>4379</th>\n",
       "      <td>7707</td>\n",
       "      <td>2019-12-28</td>\n",
       "      <td>62</td>\n",
       "      <td>51</td>\n",
       "      <td>48</td>\n",
       "      <td>37</td>\n",
       "      <td>570</td>\n",
       "      <td>130</td>\n",
       "      <td>18.00</td>\n",
       "      <td>0.76</td>\n",
       "      <td>4.47</td>\n",
       "      <td>2.170</td>\n",
       "    </tr>\n",
       "    <tr>\n",
       "      <th>4380</th>\n",
       "      <td>7708</td>\n",
       "      <td>2019-12-29</td>\n",
       "      <td>189</td>\n",
       "      <td>115</td>\n",
       "      <td>340</td>\n",
       "      <td>224</td>\n",
       "      <td>962</td>\n",
       "      <td>340</td>\n",
       "      <td>17.00</td>\n",
       "      <td>0.49</td>\n",
       "      <td>4.55</td>\n",
       "      <td>1.240</td>\n",
       "    </tr>\n",
       "    <tr>\n",
       "      <th>4381</th>\n",
       "      <td>7709</td>\n",
       "      <td>2019-12-30</td>\n",
       "      <td>74</td>\n",
       "      <td>47</td>\n",
       "      <td>99</td>\n",
       "      <td>68</td>\n",
       "      <td>656</td>\n",
       "      <td>164</td>\n",
       "      <td>14.00</td>\n",
       "      <td>0.88</td>\n",
       "      <td>2.70</td>\n",
       "      <td>1.070</td>\n",
       "    </tr>\n",
       "    <tr>\n",
       "      <th>4382</th>\n",
       "      <td>7710</td>\n",
       "      <td>2019-12-31</td>\n",
       "      <td>60</td>\n",
       "      <td>44</td>\n",
       "      <td>69</td>\n",
       "      <td>63</td>\n",
       "      <td>904</td>\n",
       "      <td>194</td>\n",
       "      <td>13.00</td>\n",
       "      <td>0.27</td>\n",
       "      <td>3.58</td>\n",
       "      <td>2.220</td>\n",
       "    </tr>\n",
       "  </tbody>\n",
       "</table>\n",
       "<p>4383 rows × 12 columns</p>\n",
       "</div>"
      ],
      "text/plain": [
       "      Unnamed: 0       Date  BOD5  CBOD5   SS  VSS    TS  VTS    TKN  \\\n",
       "0           2672 2008-01-01    67     55   82   64  1994  188  18.53   \n",
       "1           2673 2008-01-02    77     57   70   61  1274  196  19.87   \n",
       "2           2674 2008-01-03    94     70   84   69  1096  220  21.49   \n",
       "3           2675 2008-01-04    93     64   72   54  1003  242  19.32   \n",
       "4           2676 2008-01-05   107     75  118   90  1317  280  17.13   \n",
       "...          ...        ...   ...    ...  ...  ...   ...  ...    ...   \n",
       "4378        7706 2019-12-27     0      0   79   61   554  174  14.00   \n",
       "4379        7707 2019-12-28    62     51   48   37   570  130  18.00   \n",
       "4380        7708 2019-12-29   189    115  340  224   962  340  17.00   \n",
       "4381        7709 2019-12-30    74     47   99   68   656  164  14.00   \n",
       "4382        7710 2019-12-31    60     44   69   63   904  194  13.00   \n",
       "\n",
       "      Nitrates  P-TOT  P-SOL  \n",
       "0         0.72   2.65  1.155  \n",
       "1         0.85   4.22  2.849  \n",
       "2         0.81   5.53  3.809  \n",
       "3         0.65   6.19  4.107  \n",
       "4         0.31   4.16  2.183  \n",
       "...        ...    ...    ...  \n",
       "4378      0.66   3.05  1.310  \n",
       "4379      0.76   4.47  2.170  \n",
       "4380      0.49   4.55  1.240  \n",
       "4381      0.88   2.70  1.070  \n",
       "4382      0.27   3.58  2.220  \n",
       "\n",
       "[4383 rows x 12 columns]"
      ]
     },
     "execution_count": 299,
     "metadata": {},
     "output_type": "execute_result"
    }
   ],
   "source": [
    "influent_data = pd.read_excel(r\"C:\\Users\\18455\\EAEE4000_ML_Jupyter\\EAEE4000_WW_Prediction\\Appendix_A_Preprocessing_and_DataReview\\raw_influent.xlsx\")\n",
    "influent_data"
   ]
  },
  {
   "cell_type": "markdown",
   "id": "c9c72049",
   "metadata": {},
   "source": [
    "# Prepare the Training Data"
   ]
  },
  {
   "cell_type": "markdown",
   "id": "c99fa30b",
   "metadata": {},
   "source": [
    "See top 3 project input features used here."
   ]
  },
  {
   "cell_type": "code",
   "execution_count": 300,
   "id": "905ccf16",
   "metadata": {},
   "outputs": [],
   "source": [
    "# Prepare the training set\n",
    "X = influent_data[['P-TOT','CBOD5','VTS']]\n",
    "Y = influent_data[['TKN']]\n",
    "X_train_df, X_test_df, Y_train_df, Y_test_df = train_test_split(X, Y,\n",
    " test_size = 0.2, random_state=0, shuffle=False)"
   ]
  },
  {
   "cell_type": "code",
   "execution_count": 301,
   "id": "80a8a572",
   "metadata": {},
   "outputs": [
    {
     "name": "stdout",
     "output_type": "stream",
     "text": [
      "(3506, 3) (3506, 1)\n",
      "(877, 3) (877, 1)\n"
     ]
    }
   ],
   "source": [
    "# Normalize the data\n",
    "mean_x, std_x = X_train_df.mean(), X_train_df.std()\n",
    "mean_y, std_y = Y_train_df.mean(), Y_train_df.std()\n",
    "X_train_df = (X_train_df - mean_x)/std_x\n",
    "X_test_df = (X_test_df - mean_x)/std_x\n",
    "Y_train_df = (Y_train_df - mean_y)/std_y\n",
    "Y_test_df = (Y_test_df - mean_y)/std_y\n",
    "X_train = X_train_df.to_numpy()\n",
    "Y_train = Y_train_df.to_numpy()\n",
    "X_test = X_test_df.to_numpy()\n",
    "Y_test = Y_test_df.to_numpy()\n",
    "print(X_train.shape, Y_train.shape)\n",
    "print(X_test.shape, Y_test.shape, )"
   ]
  },
  {
   "cell_type": "markdown",
   "id": "f2b45c72",
   "metadata": {},
   "source": [
    "# Random Forest Regression Model"
   ]
  },
  {
   "cell_type": "markdown",
   "id": "12d8bb39",
   "metadata": {},
   "source": [
    "Set Hyperparameters and Model Architecture\n",
    "​"
   ]
  },
  {
   "cell_type": "code",
   "execution_count": 302,
   "id": "de4cf594",
   "metadata": {},
   "outputs": [],
   "source": [
    "# RFR MODEL\n",
    "# RFR parameters (random forest regression)\n",
    "params_rfr = {'n_estimators':752,\n",
    "              'criterion':'squared_error', \n",
    "              'max_depth': 7,         \n",
    "              'min_samples_leaf':3,\n",
    "              'min_samples_split':5,\n",
    "              'bootstrap':True,\n",
    "              'max_features':None}"
   ]
  },
  {
   "cell_type": "markdown",
   "id": "6b66cbe0",
   "metadata": {},
   "source": [
    "Evaluate the Model"
   ]
  },
  {
   "cell_type": "code",
   "execution_count": 303,
   "id": "8ef6d703",
   "metadata": {},
   "outputs": [
    {
     "data": {
      "text/plain": [
       "RandomForestRegressor(max_depth=7, max_features=None, min_samples_leaf=3,\n",
       "                      min_samples_split=5, n_estimators=752)"
      ]
     },
     "execution_count": 303,
     "metadata": {},
     "output_type": "execute_result"
    }
   ],
   "source": [
    "rf_model = RandomForestRegressor(**params_rfr)\n",
    "rf_model"
   ]
  },
  {
   "cell_type": "code",
   "execution_count": 304,
   "id": "139aec8c",
   "metadata": {},
   "outputs": [
    {
     "name": "stderr",
     "output_type": "stream",
     "text": [
      "<timed exec>:1: DataConversionWarning: A column-vector y was passed when a 1d array was expected. Please change the shape of y to (n_samples,), for example using ravel().\n"
     ]
    },
    {
     "name": "stdout",
     "output_type": "stream",
     "text": [
      "CPU times: total: 6.31 s\n",
      "Wall time: 6.68 s\n"
     ]
    }
   ],
   "source": [
    "%%time\n",
    "history = rf_model.fit(X_train, Y_train)"
   ]
  },
  {
   "cell_type": "markdown",
   "id": "beae082d",
   "metadata": {},
   "source": [
    "Make Predictions"
   ]
  },
  {
   "cell_type": "code",
   "execution_count": 305,
   "id": "118c1a04",
   "metadata": {},
   "outputs": [
    {
     "data": {
      "image/png": "[encoded data removed]",
      "text/plain": [
       "<Figure size 640x480 with 1 Axes>"
      ]
     },
     "metadata": {},
     "output_type": "display_data"
    }
   ],
   "source": [
    "test_predictions = rf_model.predict(X_test)\n",
    "\n",
    "plt.scatter(Y_test, test_predictions)\n",
    "plt.xlabel('True TKN')\n",
    "plt.ylabel('Predicted TKN')\n",
    "plt.axis('equal')\n",
    "plt.xlim(plt.xlim())\n",
    "plt.ylim(plt.ylim())\n",
    "_ = plt.plot([-100, 100], [-100, 100])"
   ]
  },
  {
   "cell_type": "code",
   "execution_count": 306,
   "id": "3f0132b2",
   "metadata": {},
   "outputs": [
    {
     "name": "stdout",
     "output_type": "stream",
     "text": [
      "The mse is: 0.11207768525448054\n"
     ]
    }
   ],
   "source": [
    "mse = mean_squared_error(Y_test, test_predictions)\n",
    "print('The mse is:', mse)"
   ]
  },
  {
   "cell_type": "code",
   "execution_count": 307,
   "id": "5466eb2b",
   "metadata": {},
   "outputs": [
    {
     "name": "stdout",
     "output_type": "stream",
     "text": [
      "MSE: 0.11207768525448054\n",
      "RMSE: 0.33478005504283037\n",
      "MAE: 0.23391937055785425\n",
      "R-SQ: 0.8431597426219906\n"
     ]
    }
   ],
   "source": [
    "# Print out the prediction scores\n",
    "print('MSE: {}'.format(mean_squared_error(Y_test, test_predictions)))\n",
    "print('RMSE: {}'.format(np.sqrt(mean_squared_error(Y_test, test_predictions))))\n",
    "print('MAE: {}'.format(mean_absolute_error(Y_test, test_predictions)))\n",
    "print('R-SQ: {}'.format(r2_score(Y_test, test_predictions)))"
   ]
  },
  {
   "cell_type": "markdown",
   "id": "1d53d61a",
   "metadata": {},
   "source": [
    "Use Optuna tool to refine hyperparameters"
   ]
  },
  {
   "cell_type": "markdown",
   "id": "827004fb",
   "metadata": {},
   "source": [
    "Code source: https://www.analyticsvidhya.com/blog/2020/11/hyperparameter-tuning-using-optuna/"
   ]
  },
  {
   "cell_type": "code",
   "execution_count": 135,
   "id": "964f8ee6",
   "metadata": {},
   "outputs": [],
   "source": [
    "def objective(trial):\n",
    "      n_estimators = trial.suggest_int('n_estimators', 2, 2000)\n",
    "      max_depth = int(trial.suggest_loguniform('max_depth', 1, 40))\n",
    "      rf_model = RandomForestRegressor(n_estimators=n_estimators, max_depth=max_depth)\n",
    "      return sklearn.model_selection.cross_val_score(rf_model, X_train, Y_train, \n",
    "           n_jobs=-1, cv=3).mean()"
   ]
  },
  {
   "cell_type": "code",
   "execution_count": 136,
   "id": "2ab087fd",
   "metadata": {},
   "outputs": [
    {
     "name": "stderr",
     "output_type": "stream",
     "text": [
      "\u001b[32m[I 2022-12-23 01:38:10,772]\u001b[0m A new study created in memory with name: no-name-218d9d1b-e472-4090-92c7-78376f448755\u001b[0m\n",
      "\u001b[32m[I 2022-12-23 01:38:17,879]\u001b[0m Trial 0 finished with value: 0.3195522198141467 and parameters: {'n_estimators': 503, 'max_depth': 7.679442967957044}. Best is trial 0 with value: 0.3195522198141467.\u001b[0m\n",
      "\u001b[32m[I 2022-12-23 01:38:20,516]\u001b[0m Trial 1 finished with value: -0.023167684378562092 and parameters: {'n_estimators': 327, 'max_depth': 1.9958266808530807}. Best is trial 0 with value: 0.3195522198141467.\u001b[0m\n",
      "\u001b[32m[I 2022-12-23 01:38:34,208]\u001b[0m Trial 2 finished with value: 0.29299880573885206 and parameters: {'n_estimators': 761, 'max_depth': 19.873442174561816}. Best is trial 0 with value: 0.3195522198141467.\u001b[0m\n",
      "\u001b[32m[I 2022-12-23 01:38:58,188]\u001b[0m Trial 3 finished with value: 0.2694871099206089 and parameters: {'n_estimators': 1484, 'max_depth': 35.76726503686333}. Best is trial 0 with value: 0.3195522198141467.\u001b[0m\n",
      "\u001b[32m[I 2022-12-23 01:39:06,875]\u001b[0m Trial 4 finished with value: 0.32415724551055164 and parameters: {'n_estimators': 1205, 'max_depth': 5.67909111903112}. Best is trial 4 with value: 0.32415724551055164.\u001b[0m\n",
      "\u001b[32m[I 2022-12-23 01:39:11,787]\u001b[0m Trial 5 finished with value: 0.18674974150259716 and parameters: {'n_estimators': 843, 'max_depth': 3.2256115811785406}. Best is trial 4 with value: 0.32415724551055164.\u001b[0m\n",
      "\u001b[32m[I 2022-12-23 01:39:21,863]\u001b[0m Trial 6 finished with value: 0.3107508585365775 and parameters: {'n_estimators': 1458, 'max_depth': 6.647464343159577}. Best is trial 4 with value: 0.32415724551055164.\u001b[0m\n",
      "\u001b[32m[I 2022-12-23 01:39:42,647]\u001b[0m Trial 7 finished with value: 0.28473410240841185 and parameters: {'n_estimators': 1386, 'max_depth': 21.49114989866461}. Best is trial 4 with value: 0.32415724551055164.\u001b[0m\n",
      "\u001b[32m[I 2022-12-23 01:39:43,509]\u001b[0m Trial 8 finished with value: 0.2517518783898101 and parameters: {'n_estimators': 50, 'max_depth': 25.852446693309105}. Best is trial 4 with value: 0.32415724551055164.\u001b[0m\n",
      "\u001b[32m[I 2022-12-23 01:39:49,674]\u001b[0m Trial 9 finished with value: -0.011767527487522375 and parameters: {'n_estimators': 1394, 'max_depth': 1.1023791045593325}. Best is trial 4 with value: 0.32415724551055164.\u001b[0m\n",
      "\u001b[32m[I 2022-12-23 01:40:11,784]\u001b[0m Trial 10 finished with value: 0.3135570637925147 and parameters: {'n_estimators': 1970, 'max_depth': 10.6929326325896}. Best is trial 4 with value: 0.32415724551055164.\u001b[0m\n",
      "\u001b[32m[I 2022-12-23 01:40:15,589]\u001b[0m Trial 11 finished with value: 0.33109859378813156 and parameters: {'n_estimators': 526, 'max_depth': 5.804084153188213}. Best is trial 11 with value: 0.33109859378813156.\u001b[0m\n",
      "\u001b[32m[I 2022-12-23 01:40:20,909]\u001b[0m Trial 12 finished with value: 0.12344861539817449 and parameters: {'n_estimators': 1065, 'max_depth': 2.9452004985797853}. Best is trial 11 with value: 0.33109859378813156.\u001b[0m\n",
      "\u001b[32m[I 2022-12-23 01:40:24,322]\u001b[0m Trial 13 finished with value: 0.20181943400239874 and parameters: {'n_estimators': 614, 'max_depth': 3.8086803096198394}. Best is trial 11 with value: 0.33109859378813156.\u001b[0m\n",
      "\u001b[32m[I 2022-12-23 01:40:35,601]\u001b[0m Trial 14 finished with value: 0.2902344014978797 and parameters: {'n_estimators': 1018, 'max_depth': 10.406938262590357}. Best is trial 11 with value: 0.33109859378813156.\u001b[0m\n",
      "\u001b[32m[I 2022-12-23 01:40:35,731]\u001b[0m Trial 15 finished with value: 0.2609299024821238 and parameters: {'n_estimators': 10, 'max_depth': 4.0876183478536605}. Best is trial 11 with value: 0.33109859378813156.\u001b[0m\n",
      "\u001b[32m[I 2022-12-23 01:40:56,006]\u001b[0m Trial 16 finished with value: 0.3177871092824781 and parameters: {'n_estimators': 1778, 'max_depth': 10.999277292573256}. Best is trial 11 with value: 0.33109859378813156.\u001b[0m\n",
      "\u001b[32m[I 2022-12-23 01:41:04,449]\u001b[0m Trial 17 finished with value: 0.32294445660612203 and parameters: {'n_estimators': 1165, 'max_depth': 5.259515410231623}. Best is trial 11 with value: 0.33109859378813156.\u001b[0m\n",
      "\u001b[32m[I 2022-12-23 01:41:05,665]\u001b[0m Trial 18 finished with value: -0.04746434399122479 and parameters: {'n_estimators': 264, 'max_depth': 1.903588367589954}. Best is trial 11 with value: 0.33109859378813156.\u001b[0m\n",
      "\u001b[32m[I 2022-12-23 01:41:17,346]\u001b[0m Trial 19 finished with value: 0.2968224692531203 and parameters: {'n_estimators': 831, 'max_depth': 14.054049961544472}. Best is trial 11 with value: 0.33109859378813156.\u001b[0m\n",
      "\u001b[32m[I 2022-12-23 01:41:23,251]\u001b[0m Trial 20 finished with value: 0.10751795358961529 and parameters: {'n_estimators': 1214, 'max_depth': 2.219992302269925}. Best is trial 11 with value: 0.33109859378813156.\u001b[0m\n",
      "\u001b[32m[I 2022-12-23 01:41:30,864]\u001b[0m Trial 21 finished with value: 0.26154386243741734 and parameters: {'n_estimators': 1180, 'max_depth': 4.9630784610236915}. Best is trial 11 with value: 0.33109859378813156.\u001b[0m\n",
      "\u001b[32m[I 2022-12-23 01:41:42,403]\u001b[0m Trial 22 finished with value: 0.3236621661861066 and parameters: {'n_estimators': 1599, 'max_depth': 5.567615495786622}. Best is trial 11 with value: 0.33109859378813156.\u001b[0m\n",
      "\u001b[32m[I 2022-12-23 01:41:57,734]\u001b[0m Trial 23 finished with value: 0.31976540612760923 and parameters: {'n_estimators': 1679, 'max_depth': 7.897302740518556}. Best is trial 11 with value: 0.33109859378813156.\u001b[0m\n",
      "\u001b[32m[I 2022-12-23 01:42:10,564]\u001b[0m Trial 24 finished with value: 0.33387427627930205 and parameters: {'n_estimators': 1606, 'max_depth': 6.000352874270459}. Best is trial 24 with value: 0.33387427627930205.\u001b[0m\n",
      "\u001b[32m[I 2022-12-23 01:42:28,481]\u001b[0m Trial 25 finished with value: 0.2876118627175881 and parameters: {'n_estimators': 1886, 'max_depth': 8.437783581273411}. Best is trial 24 with value: 0.33387427627930205.\u001b[0m\n",
      "\u001b[32m[I 2022-12-23 01:42:46,123]\u001b[0m Trial 26 finished with value: 0.30117188814150325 and parameters: {'n_estimators': 1296, 'max_depth': 13.639193183561183}. Best is trial 24 with value: 0.33387427627930205.\u001b[0m\n",
      "\u001b[32m[I 2022-12-23 01:42:48,996]\u001b[0m Trial 27 finished with value: 0.09543075024711478 and parameters: {'n_estimators': 585, 'max_depth': 2.6742829719119943}. Best is trial 24 with value: 0.33387427627930205.\u001b[0m\n",
      "\u001b[32m[I 2022-12-23 01:43:00,349]\u001b[0m Trial 28 finished with value: 0.3070570762180012 and parameters: {'n_estimators': 1598, 'max_depth': 4.65334952765831}. Best is trial 24 with value: 0.33387427627930205.\u001b[0m\n",
      "\u001b[32m[I 2022-12-23 01:43:03,253]\u001b[0m Trial 29 finished with value: 0.3087071343978602 and parameters: {'n_estimators': 315, 'max_depth': 7.565315758654}. Best is trial 24 with value: 0.33387427627930205.\u001b[0m\n",
      "\u001b[32m[I 2022-12-23 01:43:07,348]\u001b[0m Trial 30 finished with value: -0.02350389434315081 and parameters: {'n_estimators': 911, 'max_depth': 1.4203984261599918}. Best is trial 24 with value: 0.33387427627930205.\u001b[0m\n",
      "\u001b[32m[I 2022-12-23 01:43:20,336]\u001b[0m Trial 31 finished with value: 0.3114380334946497 and parameters: {'n_estimators': 1631, 'max_depth': 6.18104336081838}. Best is trial 24 with value: 0.33387427627930205.\u001b[0m\n",
      "\u001b[32m[I 2022-12-23 01:43:33,397]\u001b[0m Trial 32 finished with value: 0.301635437874386 and parameters: {'n_estimators': 1845, 'max_depth': 5.826501027636515}. Best is trial 24 with value: 0.33387427627930205.\u001b[0m\n",
      "\u001b[32m[I 2022-12-23 01:43:42,251]\u001b[0m Trial 33 finished with value: 0.18829507593295883 and parameters: {'n_estimators': 1537, 'max_depth': 3.7456104511530253}. Best is trial 24 with value: 0.33387427627930205.\u001b[0m\n",
      "\u001b[32m[I 2022-12-23 01:43:59,933]\u001b[0m Trial 34 finished with value: 0.29192299823038553 and parameters: {'n_estimators': 1705, 'max_depth': 9.092768401151742}. Best is trial 24 with value: 0.33387427627930205.\u001b[0m\n",
      "\u001b[32m[I 2022-12-23 01:44:03,709]\u001b[0m Trial 35 finished with value: 0.322484156154952 and parameters: {'n_estimators': 462, 'max_depth': 6.828148531901081}. Best is trial 24 with value: 0.33387427627930205.\u001b[0m\n",
      "\u001b[32m[I 2022-12-23 01:44:22,383]\u001b[0m Trial 36 finished with value: 0.299425038498906 and parameters: {'n_estimators': 1322, 'max_depth': 14.225324222122662}. Best is trial 24 with value: 0.33387427627930205.\u001b[0m\n",
      "\u001b[32m[I 2022-12-23 01:44:27,157]\u001b[0m Trial 37 finished with value: 0.2817380026236067 and parameters: {'n_estimators': 725, 'max_depth': 4.684167538180574}. Best is trial 24 with value: 0.33387427627930205.\u001b[0m\n",
      "\u001b[32m[I 2022-12-23 01:44:35,690]\u001b[0m Trial 38 finished with value: 0.18052080509281432 and parameters: {'n_estimators': 1531, 'max_depth': 3.3488827959209173}. Best is trial 24 with value: 0.33387427627930205.\u001b[0m\n"
     ]
    },
    {
     "name": "stderr",
     "output_type": "stream",
     "text": [
      "\u001b[32m[I 2022-12-23 01:44:43,111]\u001b[0m Trial 39 finished with value: 0.32303760814878185 and parameters: {'n_estimators': 1083, 'max_depth': 5.999874856780024}. Best is trial 24 with value: 0.33387427627930205.\u001b[0m\n",
      "\u001b[32m[I 2022-12-23 01:44:45,368]\u001b[0m Trial 40 finished with value: 0.2630979744050091 and parameters: {'n_estimators': 161, 'max_depth': 18.350306817692218}. Best is trial 24 with value: 0.33387427627930205.\u001b[0m\n",
      "\u001b[32m[I 2022-12-23 01:44:54,184]\u001b[0m Trial 41 finished with value: 0.30941522032299124 and parameters: {'n_estimators': 1076, 'max_depth': 6.610000174197313}. Best is trial 24 with value: 0.33387427627930205.\u001b[0m\n",
      "\u001b[32m[I 2022-12-23 01:45:04,474]\u001b[0m Trial 42 finished with value: 0.30913489552011303 and parameters: {'n_estimators': 1411, 'max_depth': 5.690399691513061}. Best is trial 24 with value: 0.33387427627930205.\u001b[0m\n",
      "\u001b[32m[I 2022-12-23 01:45:10,219]\u001b[0m Trial 43 finished with value: 0.2793769165291495 and parameters: {'n_estimators': 902, 'max_depth': 4.10337524498765}. Best is trial 24 with value: 0.33387427627930205.\u001b[0m\n",
      "\u001b[32m[I 2022-12-23 01:45:22,844]\u001b[0m Trial 44 finished with value: 0.2851571571316112 and parameters: {'n_estimators': 1295, 'max_depth': 9.5278667969552}. Best is trial 24 with value: 0.33387427627930205.\u001b[0m\n",
      "\u001b[32m[I 2022-12-23 01:45:32,168]\u001b[0m Trial 45 finished with value: 0.12219947374961426 and parameters: {'n_estimators': 1989, 'max_depth': 2.655056293809764}. Best is trial 24 with value: 0.33387427627930205.\u001b[0m\n",
      "\u001b[32m[I 2022-12-23 01:45:37,509]\u001b[0m Trial 46 finished with value: 0.3152269162239958 and parameters: {'n_estimators': 709, 'max_depth': 6.76806446109925}. Best is trial 24 with value: 0.33387427627930205.\u001b[0m\n",
      "\u001b[32m[I 2022-12-23 01:45:40,113]\u001b[0m Trial 47 finished with value: 0.18378526413741547 and parameters: {'n_estimators': 462, 'max_depth': 3.335480694568948}. Best is trial 24 with value: 0.33387427627930205.\u001b[0m\n",
      "\u001b[32m[I 2022-12-23 01:45:52,980]\u001b[0m Trial 48 finished with value: 0.28846299923622104 and parameters: {'n_estimators': 1096, 'max_depth': 12.077590454570347}. Best is trial 24 with value: 0.33387427627930205.\u001b[0m\n",
      "\u001b[32m[I 2022-12-23 01:45:58,863]\u001b[0m Trial 49 finished with value: 0.2912658137847213 and parameters: {'n_estimators': 960, 'max_depth': 4.665729623817971}. Best is trial 24 with value: 0.33387427627930205.\u001b[0m\n",
      "\u001b[32m[I 2022-12-23 01:46:09,479]\u001b[0m Trial 50 finished with value: 0.30413146182431827 and parameters: {'n_estimators': 1471, 'max_depth': 5.40152750193704}. Best is trial 24 with value: 0.33387427627930205.\u001b[0m\n",
      "\u001b[32m[I 2022-12-23 01:46:19,603]\u001b[0m Trial 51 finished with value: 0.32233970030857434 and parameters: {'n_estimators': 1185, 'max_depth': 7.4213452708934255}. Best is trial 24 with value: 0.33387427627930205.\u001b[0m\n",
      "\u001b[32m[I 2022-12-23 01:46:28,002]\u001b[0m Trial 52 finished with value: 0.30547727956148746 and parameters: {'n_estimators': 1161, 'max_depth': 5.8728200399900095}. Best is trial 24 with value: 0.33387427627930205.\u001b[0m\n",
      "\u001b[32m[I 2022-12-23 01:46:33,455]\u001b[0m Trial 53 finished with value: 0.28071946839705014 and parameters: {'n_estimators': 819, 'max_depth': 4.1738572983323845}. Best is trial 24 with value: 0.33387427627930205.\u001b[0m\n",
      "\u001b[32m[I 2022-12-23 01:46:40,006]\u001b[0m Trial 54 finished with value: 0.29169857840426555 and parameters: {'n_estimators': 1015, 'max_depth': 4.98305403838557}. Best is trial 24 with value: 0.33387427627930205.\u001b[0m\n",
      "\u001b[32m[I 2022-12-23 01:47:01,703]\u001b[0m Trial 55 finished with value: 0.274697135680664 and parameters: {'n_estimators': 1346, 'max_depth': 36.566431572832784}. Best is trial 24 with value: 0.33387427627930205.\u001b[0m\n",
      "\u001b[32m[I 2022-12-23 01:47:13,605]\u001b[0m Trial 56 finished with value: 0.2997838754108985 and parameters: {'n_estimators': 1266, 'max_depth': 8.616262032380991}. Best is trial 24 with value: 0.33387427627930205.\u001b[0m\n",
      "\u001b[32m[I 2022-12-23 01:47:21,337]\u001b[0m Trial 57 finished with value: 0.2976260126927197 and parameters: {'n_estimators': 1120, 'max_depth': 5.278415257483335}. Best is trial 24 with value: 0.33387427627930205.\u001b[0m\n",
      "\u001b[32m[I 2022-12-23 01:47:33,450]\u001b[0m Trial 58 finished with value: 0.3121305048865393 and parameters: {'n_estimators': 1385, 'max_depth': 7.03293128242526}. Best is trial 24 with value: 0.33387427627930205.\u001b[0m\n",
      "\u001b[32m[I 2022-12-23 01:47:43,685]\u001b[0m Trial 59 finished with value: 0.1963428152184078 and parameters: {'n_estimators': 1746, 'max_depth': 3.827286386021458}. Best is trial 24 with value: 0.33387427627930205.\u001b[0m\n",
      "\u001b[32m[I 2022-12-23 01:47:57,364]\u001b[0m Trial 60 finished with value: 0.3054293868676618 and parameters: {'n_estimators': 1236, 'max_depth': 10.485454457353757}. Best is trial 24 with value: 0.33387427627930205.\u001b[0m\n",
      "\u001b[32m[I 2022-12-23 01:48:01,142]\u001b[0m Trial 61 finished with value: 0.3329053031460253 and parameters: {'n_estimators': 476, 'max_depth': 6.607207161657898}. Best is trial 24 with value: 0.33387427627930205.\u001b[0m\n",
      "\u001b[32m[I 2022-12-23 01:48:05,784]\u001b[0m Trial 62 finished with value: 0.3325275280961129 and parameters: {'n_estimators': 576, 'max_depth': 7.660539857814054}. Best is trial 24 with value: 0.33387427627930205.\u001b[0m\n",
      "\u001b[32m[I 2022-12-23 01:48:09,367]\u001b[0m Trial 63 finished with value: 0.2991459819078349 and parameters: {'n_estimators': 398, 'max_depth': 8.146864616335716}. Best is trial 24 with value: 0.33387427627930205.\u001b[0m\n",
      "\u001b[32m[I 2022-12-23 01:48:14,144]\u001b[0m Trial 64 finished with value: 0.3039074194915058 and parameters: {'n_estimators': 631, 'max_depth': 6.176857729849485}. Best is trial 24 with value: 0.33387427627930205.\u001b[0m\n",
      "\u001b[32m[I 2022-12-23 01:48:19,775]\u001b[0m Trial 65 finished with value: 0.3083344984111403 and parameters: {'n_estimators': 552, 'max_depth': 9.527649381162874}. Best is trial 24 with value: 0.33387427627930205.\u001b[0m\n",
      "\u001b[32m[I 2022-12-23 01:48:21,571]\u001b[0m Trial 66 finished with value: 0.30934579560966047 and parameters: {'n_estimators': 202, 'max_depth': 7.529526444162222}. Best is trial 24 with value: 0.33387427627930205.\u001b[0m\n",
      "\u001b[32m[I 2022-12-23 01:48:23,777]\u001b[0m Trial 67 finished with value: 0.29275622132191675 and parameters: {'n_estimators': 372, 'max_depth': 4.273905144316919}. Best is trial 24 with value: 0.33387427627930205.\u001b[0m\n",
      "\u001b[32m[I 2022-12-23 01:48:28,817]\u001b[0m Trial 68 finished with value: 0.31934995851248993 and parameters: {'n_estimators': 645, 'max_depth': 6.293020580913389}. Best is trial 24 with value: 0.33387427627930205.\u001b[0m\n",
      "\u001b[32m[I 2022-12-23 01:48:34,736]\u001b[0m Trial 69 finished with value: 0.27063217037691895 and parameters: {'n_estimators': 510, 'max_depth': 11.990097746030907}. Best is trial 24 with value: 0.33387427627930205.\u001b[0m\n",
      "\u001b[32m[I 2022-12-23 01:48:40,305]\u001b[0m Trial 70 finished with value: 0.3029985035807456 and parameters: {'n_estimators': 779, 'max_depth': 5.384634019874359}. Best is trial 24 with value: 0.33387427627930205.\u001b[0m\n",
      "\u001b[32m[I 2022-12-23 01:48:50,174]\u001b[0m Trial 71 finished with value: 0.2701370422475586 and parameters: {'n_estimators': 1599, 'max_depth': 4.8908626675438445}. Best is trial 24 with value: 0.33387427627930205.\u001b[0m\n",
      "\u001b[32m[I 2022-12-23 01:49:05,941]\u001b[0m Trial 72 finished with value: 0.315378926312708 and parameters: {'n_estimators': 1846, 'max_depth': 7.77717721661938}. Best is trial 24 with value: 0.33387427627930205.\u001b[0m\n",
      "\u001b[32m[I 2022-12-23 01:49:12,720]\u001b[0m Trial 73 finished with value: 0.312154854345932 and parameters: {'n_estimators': 927, 'max_depth': 5.759539830774663}. Best is trial 24 with value: 0.33387427627930205.\u001b[0m\n",
      "\u001b[32m[I 2022-12-23 01:49:17,579]\u001b[0m Trial 74 finished with value: 0.2683215833359605 and parameters: {'n_estimators': 293, 'max_depth': 29.127592678749423}. Best is trial 24 with value: 0.33387427627930205.\u001b[0m\n",
      "\u001b[32m[I 2022-12-23 01:49:29,956]\u001b[0m Trial 75 finished with value: 0.312078662437402 and parameters: {'n_estimators': 1530, 'max_depth': 6.622878932045163}. Best is trial 24 with value: 0.33387427627930205.\u001b[0m\n",
      "\u001b[32m[I 2022-12-23 01:49:32,220]\u001b[0m Trial 76 finished with value: 0.19285678779761173 and parameters: {'n_estimators': 417, 'max_depth': 3.561582344928704}. Best is trial 24 with value: 0.33387427627930205.\u001b[0m\n",
      "\u001b[32m[I 2022-12-23 01:49:39,067]\u001b[0m Trial 77 finished with value: 0.2792194044403083 and parameters: {'n_estimators': 1044, 'max_depth': 4.55793878476669}. Best is trial 24 with value: 0.33387427627930205.\u001b[0m\n"
     ]
    },
    {
     "name": "stderr",
     "output_type": "stream",
     "text": [
      "\u001b[32m[I 2022-12-23 01:49:45,717]\u001b[0m Trial 78 finished with value: 0.30384801479769674 and parameters: {'n_estimators': 691, 'max_depth': 8.6829591761814}. Best is trial 24 with value: 0.33387427627930205.\u001b[0m\n",
      "\u001b[32m[I 2022-12-23 01:49:57,355]\u001b[0m Trial 79 finished with value: 0.30072015112281114 and parameters: {'n_estimators': 1663, 'max_depth': 5.223782634098755}. Best is trial 24 with value: 0.33387427627930205.\u001b[0m\n",
      "\u001b[32m[I 2022-12-23 01:50:09,712]\u001b[0m Trial 80 finished with value: 0.2737535483768571 and parameters: {'n_estimators': 1926, 'max_depth': 4.3081910856729015}. Best is trial 24 with value: 0.33387427627930205.\u001b[0m\n",
      "\u001b[32m[I 2022-12-23 01:50:13,974]\u001b[0m Trial 81 finished with value: 0.2705101168785115 and parameters: {'n_estimators': 493, 'max_depth': 7.092348284753709}. Best is trial 24 with value: 0.33387427627930205.\u001b[0m\n",
      "\u001b[32m[I 2022-12-23 01:50:14,772]\u001b[0m Trial 82 finished with value: 0.328326748908831 and parameters: {'n_estimators': 98, 'max_depth': 6.11843567565944}. Best is trial 24 with value: 0.33387427627930205.\u001b[0m\n",
      "\u001b[32m[I 2022-12-23 01:50:15,562]\u001b[0m Trial 83 finished with value: 0.30773003699620904 and parameters: {'n_estimators': 89, 'max_depth': 6.134625679468334}. Best is trial 24 with value: 0.33387427627930205.\u001b[0m\n",
      "\u001b[32m[I 2022-12-23 01:50:22,394]\u001b[0m Trial 84 finished with value: 0.32283941467416616 and parameters: {'n_estimators': 985, 'max_depth': 5.6371215406126165}. Best is trial 24 with value: 0.33387427627930205.\u001b[0m\n",
      "\u001b[32m[I 2022-12-23 01:50:22,457]\u001b[0m Trial 85 finished with value: 0.14570644824833398 and parameters: {'n_estimators': 2, 'max_depth': 7.954243771725878}. Best is trial 24 with value: 0.33387427627930205.\u001b[0m\n",
      "\u001b[32m[I 2022-12-23 01:50:23,604]\u001b[0m Trial 86 finished with value: 0.0748966675390285 and parameters: {'n_estimators': 220, 'max_depth': 2.9443433157192764}. Best is trial 24 with value: 0.33387427627930205.\u001b[0m\n",
      "\u001b[32m[I 2022-12-23 01:50:30,633]\u001b[0m Trial 87 finished with value: 0.33321580090199326 and parameters: {'n_estimators': 868, 'max_depth': 6.652998556086613}. Best is trial 24 with value: 0.33387427627930205.\u001b[0m\n",
      "\u001b[32m[I 2022-12-23 01:50:31,584]\u001b[0m Trial 88 finished with value: 0.22892621266985125 and parameters: {'n_estimators': 86, 'max_depth': 9.388151854841842}. Best is trial 24 with value: 0.33387427627930205.\u001b[0m\n",
      "\u001b[32m[I 2022-12-23 01:50:38,642]\u001b[0m Trial 89 finished with value: 0.33745131809676754 and parameters: {'n_estimators': 864, 'max_depth': 6.496021297907013}. Best is trial 89 with value: 0.33745131809676754.\u001b[0m\n",
      "\u001b[32m[I 2022-12-23 01:50:46,367]\u001b[0m Trial 90 finished with value: 0.3163593801494058 and parameters: {'n_estimators': 872, 'max_depth': 7.0746348034454}. Best is trial 89 with value: 0.33745131809676754.\u001b[0m\n",
      "\u001b[32m[I 2022-12-23 01:50:52,404]\u001b[0m Trial 91 finished with value: 0.3413814886606681 and parameters: {'n_estimators': 752, 'max_depth': 6.507149323546237}. Best is trial 91 with value: 0.3413814886606681.\u001b[0m\n",
      "\u001b[32m[I 2022-12-23 01:50:58,529]\u001b[0m Trial 92 finished with value: 0.3211568480676611 and parameters: {'n_estimators': 789, 'max_depth': 6.633195697487969}. Best is trial 91 with value: 0.3413814886606681.\u001b[0m\n",
      "\u001b[32m[I 2022-12-23 01:51:02,004]\u001b[0m Trial 93 finished with value: 0.29903463263383867 and parameters: {'n_estimators': 543, 'max_depth': 4.95392200958754}. Best is trial 91 with value: 0.3413814886606681.\u001b[0m\n",
      "\u001b[32m[I 2022-12-23 01:51:07,994]\u001b[0m Trial 94 finished with value: 0.3054031773497556 and parameters: {'n_estimators': 746, 'max_depth': 8.31804932482358}. Best is trial 91 with value: 0.3413814886606681.\u001b[0m\n",
      "\u001b[32m[I 2022-12-23 01:51:12,628]\u001b[0m Trial 95 finished with value: 0.30342591598273055 and parameters: {'n_estimators': 677, 'max_depth': 6.528184232264207}. Best is trial 91 with value: 0.3413814886606681.\u001b[0m\n",
      "\u001b[32m[I 2022-12-23 01:51:16,851]\u001b[0m Trial 96 finished with value: 0.31262532686761824 and parameters: {'n_estimators': 601, 'max_depth': 5.5835714429348835}. Best is trial 91 with value: 0.3413814886606681.\u001b[0m\n",
      "\u001b[32m[I 2022-12-23 01:51:23,543]\u001b[0m Trial 97 finished with value: 0.32144503085354253 and parameters: {'n_estimators': 853, 'max_depth': 7.498680774619857}. Best is trial 91 with value: 0.3413814886606681.\u001b[0m\n",
      "\u001b[32m[I 2022-12-23 01:51:26,107]\u001b[0m Trial 98 finished with value: 0.32047442922814223 and parameters: {'n_estimators': 350, 'max_depth': 5.9536680878769195}. Best is trial 91 with value: 0.3413814886606681.\u001b[0m\n",
      "\u001b[32m[I 2022-12-23 01:51:30,945]\u001b[0m Trial 99 finished with value: 0.30252261724060164 and parameters: {'n_estimators': 663, 'max_depth': 5.100301032360796}. Best is trial 91 with value: 0.3413814886606681.\u001b[0m\n"
     ]
    }
   ],
   "source": [
    "study = optuna.create_study(direction='maximize')\n",
    "study.optimize(objective, n_trials=100)"
   ]
  },
  {
   "cell_type": "code",
   "execution_count": 137,
   "id": "68a8aa60",
   "metadata": {},
   "outputs": [
    {
     "name": "stdout",
     "output_type": "stream",
     "text": [
      "Accuracy: 0.3413814886606681\n"
     ]
    }
   ],
   "source": [
    "trial = study.best_trial\n",
    "print('Accuracy: {}'.format(trial.value))"
   ]
  },
  {
   "cell_type": "markdown",
   "id": "1c894f90",
   "metadata": {},
   "source": [
    "Include the following parameters in the model above: "
   ]
  },
  {
   "cell_type": "code",
   "execution_count": 138,
   "id": "9ce14ea1",
   "metadata": {},
   "outputs": [
    {
     "name": "stdout",
     "output_type": "stream",
     "text": [
      "Best hyperparameters: {'n_estimators': 752, 'max_depth': 6.507149323546237}\n"
     ]
    }
   ],
   "source": [
    "print(\"Best hyperparameters: {}\".format(trial.params))"
   ]
  },
  {
   "cell_type": "markdown",
   "id": "939d13ac",
   "metadata": {},
   "source": [
    "# XGB Gradient Boosting"
   ]
  },
  {
   "cell_type": "markdown",
   "id": "2f008bfa",
   "metadata": {},
   "source": [
    "Set Hyperparameters and Model Architecture​"
   ]
  },
  {
   "cell_type": "code",
   "execution_count": 308,
   "id": "da4e71c3",
   "metadata": {},
   "outputs": [],
   "source": [
    "# XGB parameters (extreme gradient boosting)\n",
    "params_xgb = {'objective': 'reg:squarederror',\n",
    "              'n_estimators': 100,  # number of trees \n",
    "              'learning_rate': 0.15, \n",
    "              'max_depth': 3,       # levels in each tree\n",
    "              'reg_alpha': 1,\n",
    "              'reg_lambda': 0,}"
   ]
  },
  {
   "cell_type": "markdown",
   "id": "57c41a95",
   "metadata": {},
   "source": [
    "Evaluate the Model"
   ]
  },
  {
   "cell_type": "code",
   "execution_count": 309,
   "id": "fa195b00",
   "metadata": {},
   "outputs": [],
   "source": [
    "xgb_model = XGBRegressor(**params_xgb)"
   ]
  },
  {
   "cell_type": "code",
   "execution_count": 310,
   "id": "03c9080b",
   "metadata": {},
   "outputs": [
    {
     "name": "stdout",
     "output_type": "stream",
     "text": [
      "CPU times: total: 1.55 s\n",
      "Wall time: 213 ms\n"
     ]
    },
    {
     "data": {
      "text/plain": [
       "XGBRegressor(base_score=0.5, booster='gbtree', callbacks=None,\n",
       "             colsample_bylevel=1, colsample_bynode=1, colsample_bytree=1,\n",
       "             early_stopping_rounds=None, enable_categorical=False,\n",
       "             eval_metric=None, gamma=0, gpu_id=-1, grow_policy='depthwise',\n",
       "             importance_type=None, interaction_constraints='',\n",
       "             learning_rate=0.15, max_bin=256, max_cat_to_onehot=4,\n",
       "             max_delta_step=0, max_depth=3, max_leaves=0, min_child_weight=1,\n",
       "             missing=nan, monotone_constraints='()', n_estimators=100, n_jobs=0,\n",
       "             num_parallel_tree=1, predictor='auto', random_state=0, reg_alpha=1,\n",
       "             reg_lambda=0, ...)"
      ]
     },
     "execution_count": 310,
     "metadata": {},
     "output_type": "execute_result"
    }
   ],
   "source": [
    "%%time\n",
    "xgb_model.fit(X_train, Y_train)"
   ]
  },
  {
   "cell_type": "markdown",
   "id": "c0fe053e",
   "metadata": {},
   "source": [
    "Make Predictions"
   ]
  },
  {
   "cell_type": "code",
   "execution_count": 311,
   "id": "0a97e7c4",
   "metadata": {},
   "outputs": [
    {
     "data": {
      "image/png": "[encoded data removed]",
      "text/plain": [
       "<Figure size 640x480 with 1 Axes>"
      ]
     },
     "metadata": {},
     "output_type": "display_data"
    }
   ],
   "source": [
    "test_predict_XG = xgb_model.predict(X_test)\n",
    "\n",
    "plt.scatter(Y_test, test_predict_XG)\n",
    "plt.xlabel('True TKN')\n",
    "plt.ylabel('Predicted TKN')\n",
    "plt.axis('equal')\n",
    "plt.xlim(plt.xlim())\n",
    "plt.ylim(plt.ylim())\n",
    "_ = plt.plot([-100, 100], [-100, 100])"
   ]
  },
  {
   "cell_type": "code",
   "execution_count": 312,
   "id": "50cca022",
   "metadata": {},
   "outputs": [
    {
     "data": {
      "text/plain": [
       "0.09654628276497093"
      ]
     },
     "execution_count": 312,
     "metadata": {},
     "output_type": "execute_result"
    }
   ],
   "source": [
    "mse = mean_squared_error(Y_test, test_predict_XG)\n",
    "mse"
   ]
  },
  {
   "cell_type": "code",
   "execution_count": 313,
   "id": "18696925",
   "metadata": {},
   "outputs": [
    {
     "name": "stdout",
     "output_type": "stream",
     "text": [
      "MSE: 0.09654628276497093\n",
      "RMSE: 0.31071897715616104\n",
      "MAE: 0.22973763859461496\n",
      "R-SQ: 0.8648942133006555\n"
     ]
    }
   ],
   "source": [
    "# print out the prediction scores\n",
    "print('MSE: {}'.format(mean_squared_error(Y_test, test_predict_XG)))\n",
    "print('RMSE: {}'.format(np.sqrt(mean_squared_error(Y_test, test_predict_XG))))\n",
    "print('MAE: {}'.format(mean_absolute_error(Y_test, test_predict_XG)))\n",
    "print('R-SQ: {}'.format(r2_score(Y_test, test_predict_XG)))"
   ]
  },
  {
   "cell_type": "code",
   "execution_count": null,
   "id": "499f5d43",
   "metadata": {},
   "outputs": [],
   "source": []
  },
  {
   "cell_type": "code",
   "execution_count": null,
   "id": "4c053402",
   "metadata": {},
   "outputs": [],
   "source": []
  }
 ],
 "metadata": {
  "kernelspec": {
   "display_name": "keras",
   "language": "python",
   "name": "keras"
  },
  "language_info": {
   "codemirror_mode": {
    "name": "ipython",
    "version": 3
   },
   "file_extension": ".py",
   "mimetype": "text/x-python",
   "name": "python",
   "nbconvert_exporter": "python",
   "pygments_lexer": "ipython3",
   "version": "3.10.8"
  }
 },
 "nbformat": 4,
 "nbformat_minor": 5
}
