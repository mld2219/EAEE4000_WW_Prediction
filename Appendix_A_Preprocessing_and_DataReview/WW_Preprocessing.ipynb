{
 "cells": [
  {
   "cell_type": "markdown",
   "id": "7f093656",
   "metadata": {},
   "source": [
    "# Pre-processing Raw Influent Data - Calumet Water Reclamation Plant "
   ]
  },
  {
   "cell_type": "markdown",
   "id": "29bb0916",
   "metadata": {},
   "source": [
    "Sources: https://mwrd.org/raw-influents (Calumet Plant)"
   ]
  },
  {
   "cell_type": "code",
   "execution_count": 15,
   "id": "b926d023",
   "metadata": {},
   "outputs": [],
   "source": [
    "import pandas as pd\n",
    "import numpy as np\n",
    "import matplotlib.pyplot as plt"
   ]
  },
  {
   "cell_type": "markdown",
   "id": "494f9934",
   "metadata": {},
   "source": [
    "# Import Influent Data and Refine Range of Dates"
   ]
  },
  {
   "cell_type": "code",
   "execution_count": 16,
   "id": "99516c4a",
   "metadata": {},
   "outputs": [],
   "source": [
    "influent_1 = pd.read_excel(r\"C:\\Users\\18455\\EAEE4000_ML_Jupyter\\EAEE4000_WW_Prediction\\Appendix_A_Preprocessing_and_DataReview\\Calumet Raw 2001- 2010.xls\", sheet_name = None)\n",
    "influent_2 = pd.read_excel(r\"C:\\Users\\18455\\EAEE4000_ML_Jupyter\\EAEE4000_WW_Prediction\\Appendix_A_Preprocessing_and_DataReview\\Calumet_Raw_2011-2020.xlsx\", sheet_name = None)"
   ]
  },
  {
   "cell_type": "code",
   "execution_count": 17,
   "id": "b223caab",
   "metadata": {},
   "outputs": [],
   "source": [
    "all_sheets = []\n",
    "for name, sheet in influent_1.items():\n",
    "    sheet['sheet'] = name\n",
    "    sheet = sheet.rename(columns=lambda x: x.split('\\n')[-1])\n",
    "    all_sheets.append(sheet)\n",
    "\n",
    "influent_set1 = pd.concat(all_sheets)\n",
    "influent_set1.reset_index(inplace=True, drop=True)\n",
    "influent_set1.rename(columns = {'Unnamed: 1':'pH','NO2-N + NO3-N':'Nitrates' }, inplace = True)\n",
    "influent_set1.columns.values[0]='Date'"
   ]
  },
  {
   "cell_type": "code",
   "execution_count": 18,
   "id": "a2141f39",
   "metadata": {},
   "outputs": [],
   "source": [
    "all_sheets = []\n",
    "for name, sheet in influent_2.items():\n",
    "    sheet['sheet'] = name\n",
    "    sheet = sheet.rename(columns=lambda x: x.split('\\n')[-1])\n",
    "    all_sheets.append(sheet)\n",
    "\n",
    "influent_set2 = pd.concat(all_sheets)\n",
    "influent_set2.reset_index(inplace=True, drop=True)\n",
    "influent_set2.rename(columns = {'Unnamed: 1':'pH', 'NO2-N + NO3-N':'Nitrates'}, inplace = True)\n",
    "influent_set2.columns.values[0]='Date'"
   ]
  },
  {
   "cell_type": "code",
   "execution_count": 19,
   "id": "c82db6c7",
   "metadata": {},
   "outputs": [],
   "source": [
    "influent_data = pd.concat([influent_set1, influent_set2], ignore_index=True)"
   ]
  },
  {
   "cell_type": "markdown",
   "id": "05f45c5b",
   "metadata": {},
   "source": [
    "# Refine Raw Influent Dataset Characteristics and Convert Dates"
   ]
  },
  {
   "cell_type": "code",
   "execution_count": 20,
   "id": "dfcf67e4",
   "metadata": {},
   "outputs": [],
   "source": [
    "influent_data = influent_data[['Date','BOD5','CBOD5','SS','VSS', 'TS','VTS','TKN','Nitrates','P-TOT','P-SOL']]"
   ]
  },
  {
   "cell_type": "code",
   "execution_count": 21,
   "id": "02be4624",
   "metadata": {},
   "outputs": [],
   "source": [
    "dates = pd.to_datetime(influent_data['Date'], errors='coerce')\n",
    "nums = pd.to_numeric(influent_data['Date'], errors='coerce')\n",
    "influent_data = influent_data[(dates.notnull()) | (nums.notnull())]"
   ]
  },
  {
   "cell_type": "code",
   "execution_count": 22,
   "id": "01e88d09",
   "metadata": {},
   "outputs": [],
   "source": [
    "influent_data[\"Date\"] = influent_data[\"Date\"].fillna(0)\n",
    "influent_data = influent_data.loc[influent_data[\"Date\"] != 0]"
   ]
  },
  {
   "cell_type": "code",
   "execution_count": 23,
   "id": "fd866ddc",
   "metadata": {},
   "outputs": [],
   "source": [
    "influent_data = influent_data.loc[(influent_data['Date'] > '2007-12-31') & (influent_data['Date'] < '2020-01-01')]"
   ]
  },
  {
   "cell_type": "code",
   "execution_count": 24,
   "id": "f6057d0c",
   "metadata": {},
   "outputs": [],
   "source": [
    "influent_data[\"Date\"] = influent_data[\"Date\"].astype('datetime64[ns]')\n",
    "influent_data[\"Date\"] = pd.to_datetime(influent_data[\"Date\"]).dt.date"
   ]
  },
  {
   "cell_type": "markdown",
   "id": "1be63606",
   "metadata": {},
   "source": [
    "# Clean Input Data for Model Use"
   ]
  },
  {
   "cell_type": "code",
   "execution_count": 25,
   "id": "4fead93c",
   "metadata": {},
   "outputs": [],
   "source": [
    "influent_data = influent_data[['Date','BOD5','CBOD5','SS','VSS', 'TS','VTS','TKN','Nitrates','P-TOT','P-SOL']]  "
   ]
  },
  {
   "cell_type": "code",
   "execution_count": 26,
   "id": "170c8c26",
   "metadata": {},
   "outputs": [],
   "source": [
    "# Data cleaning assumption - Replace any < or > with zero\n",
    "influent_data['Nitrates'].replace({'     <0.02':0.02}, inplace=True)\n",
    "influent_data['Nitrates'].replace({'<0.1':0.01}, inplace=True)\n",
    "influent_data['Nitrates'].replace({'<0.15':0.15}, inplace=True)\n",
    "influent_data['Nitrates'].replace({'     <0.15':0.15}, inplace=True)\n",
    "influent_data['Nitrates'].replace({'     <0.25':0.15}, inplace=True)\n",
    "\n",
    "influent_data['Nitrates'].replace({'       S/X':None}, inplace=True)\n",
    "influent_data['Nitrates'] = influent_data['Nitrates'].fillna(0)\n",
    "\n",
    "influent_data['Nitrates'] = influent_data['Nitrates'].astype(float)\n",
    "\n",
    "influent_data['VSS'].replace({'<8':8}, inplace=True)\n",
    "influent_data['P-SOL'].replace({'     <0.15':0.15}, inplace=True)"
   ]
  },
  {
   "cell_type": "code",
   "execution_count": 27,
   "id": "858d1e05",
   "metadata": {},
   "outputs": [],
   "source": [
    "# Data cleaning assumption - Replace any T/X, N/S, S/X, N/A with zero\n",
    "# For loop was tried, but columns each had different spacing and text values requiring manual review of what to be replaced\n",
    "influent_data['CBOD5'].replace({'      T/X':None}, inplace=True)\n",
    "influent_data['CBOD5'].replace({'   T/X':None}, inplace=True)\n",
    "influent_data['CBOD5'].replace({'T/X':None}, inplace=True)\n",
    "influent_data['CBOD5'].replace({'      S/X':None}, inplace=True)\n",
    "influent_data['CBOD5'].replace({'      N/A':None}, inplace=True)\n",
    "influent_data['CBOD5'].replace({'      N/S':None}, inplace=True)\n",
    "influent_data['CBOD5'] = influent_data['CBOD5'].fillna(0)\n",
    "\n",
    "influent_data['BOD5'].replace({'      T/X':None}, inplace=True)\n",
    "influent_data['BOD5'].replace({'   T/X':None}, inplace=True)\n",
    "influent_data['BOD5'].replace({'T/X':None}, inplace=True)\n",
    "influent_data['BOD5'].replace({'      S/X':None}, inplace=True)\n",
    "influent_data['BOD5'].replace({'      N/A':None}, inplace=True)\n",
    "influent_data['BOD5'].replace({'      N/S':None}, inplace=True)\n",
    "influent_data['BOD5'] = influent_data['BOD5'].fillna(0)\n",
    "\n",
    "influent_data['SS'].replace({'      T/X':None}, inplace=True)\n",
    "influent_data['SS'].replace({'   T/X':None}, inplace=True)\n",
    "influent_data['SS'].replace({'T/X':None}, inplace=True)\n",
    "influent_data['SS'].replace({'      S/X':None}, inplace=True)\n",
    "influent_data['SS'].replace({'      N/A':None}, inplace=True)\n",
    "influent_data['SS'].replace({'      N/S':None}, inplace=True)\n",
    "influent_data['SS'] = influent_data['SS'].fillna(0)\n",
    "\n",
    "influent_data['VSS'].replace({'      T/X':None}, inplace=True)\n",
    "influent_data['VSS'].replace({'   T/X':None}, inplace=True)\n",
    "influent_data['VSS'].replace({'T/X':None}, inplace=True)\n",
    "influent_data['VSS'].replace({'      S/X':None}, inplace=True)\n",
    "influent_data['VSS'].replace({'      N/A':None}, inplace=True)\n",
    "influent_data['VSS'].replace({'      N/S':None}, inplace=True)\n",
    "influent_data['VSS'] = influent_data['VSS'].fillna(0)\n",
    "\n",
    "influent_data['VTS'].replace({'   T/X':None}, inplace=True)\n",
    "influent_data['VTS'].replace({'T/X':None}, inplace=True)\n",
    "influent_data['VTS'].replace({'      S/X':None}, inplace=True)\n",
    "influent_data['VTS'].replace({'      N/A':None}, inplace=True)\n",
    "influent_data['VTS'].replace({'      N/S':None}, inplace=True)\n",
    "influent_data['VTS'] = influent_data['VTS'].fillna(0)\n",
    "\n",
    "influent_data['TS'].replace({'      T/X':None}, inplace=True)\n",
    "influent_data['TS'].replace({'   T/X':None}, inplace=True)\n",
    "influent_data['TS'].replace({'T/X':None}, inplace=True)\n",
    "influent_data['TS'].replace({'      S/X':None}, inplace=True)\n",
    "influent_data['TS'].replace({'      N/A':None}, inplace=True)\n",
    "influent_data['TS'].replace({'      N/S':None}, inplace=True)\n",
    "influent_data['TS'] = influent_data['TS'].fillna(0)\n",
    "\n",
    "influent_data['P-TOT'].replace({'      T/X':None}, inplace=True)\n",
    "influent_data['P-TOT'].replace({'   T/X':None}, inplace=True)\n",
    "influent_data['P-TOT'].replace({'T/X':None}, inplace=True)\n",
    "influent_data['P-TOT'].replace({'       T/X':None}, inplace=True)\n",
    "influent_data['P-TOT'].replace({'      S/X':None}, inplace=True)\n",
    "influent_data['P-TOT'].replace({'       S/X':None}, inplace=True)\n",
    "influent_data['P-TOT'].replace({'      N/A':None}, inplace=True)\n",
    "influent_data['P-TOT'].replace({'      N/S':None}, inplace=True)\n",
    "influent_data['P-TOT'] = influent_data['P-TOT'].fillna(0)\n",
    "\n",
    "influent_data['P-SOL'].replace({'      T/X':None}, inplace=True)\n",
    "influent_data['P-SOL'].replace({'   T/X':None}, inplace=True)\n",
    "influent_data['P-SOL'].replace({'       T/X':None}, inplace=True)\n",
    "influent_data['P-SOL'].replace({'T/X':None}, inplace=True)\n",
    "influent_data['P-SOL'].replace({'      S/X':None}, inplace=True)\n",
    "influent_data['P-SOL'].replace({'       S/X':None}, inplace=True)\n",
    "influent_data['P-SOL'].replace({'      N/A':None}, inplace=True)\n",
    "influent_data['P-SOL'].replace({'      N/S':None}, inplace=True)\n",
    "influent_data['P-SOL'] = influent_data['P-SOL'].fillna(0)\n",
    "\n",
    "influent_data['TKN'].replace({'      T/X':None}, inplace=True)\n",
    "influent_data['TKN'].replace({'   T/X':None}, inplace=True)\n",
    "influent_data['TKN'].replace({'T/X':None}, inplace=True)\n",
    "influent_data['TKN'].replace({'      S/X':None}, inplace=True)\n",
    "influent_data['TKN'].replace({'      N/A':None}, inplace=True)\n",
    "influent_data['TKN'].replace({'      N/S':None}, inplace=True)\n",
    "influent_data['TKN'] = influent_data['TKN'].fillna(0)\n",
    "\n",
    "influent_data['Nitrates'].replace({'      T/X':None}, inplace=True)\n",
    "influent_data['Nitrates'].replace({'   T/X':None}, inplace=True)\n",
    "influent_data['Nitrates'].replace({'T/X':None}, inplace=True)\n",
    "influent_data['Nitrates'].replace({'      S/X':None}, inplace=True)\n",
    "influent_data['Nitrates'].replace({'      N/A':None}, inplace=True)\n",
    "influent_data['Nitrates'].replace({'      N/S':None}, inplace=True)\n",
    "influent_data['Nitrates'] = influent_data['Nitrates'].fillna(0)"
   ]
  },
  {
   "cell_type": "markdown",
   "id": "36306209",
   "metadata": {},
   "source": [
    "# Export Pre-processed Data"
   ]
  },
  {
   "cell_type": "code",
   "execution_count": 28,
   "id": "fff70943",
   "metadata": {},
   "outputs": [],
   "source": [
    "influent_data.to_excel('raw_influent.xlsx')"
   ]
  },
  {
   "cell_type": "code",
   "execution_count": null,
   "id": "c14297f7",
   "metadata": {},
   "outputs": [],
   "source": []
  }
 ],
 "metadata": {
  "kernelspec": {
   "display_name": "Python 3 (ipykernel)",
   "language": "python",
   "name": "python3"
  },
  "language_info": {
   "codemirror_mode": {
    "name": "ipython",
    "version": 3
   },
   "file_extension": ".py",
   "mimetype": "text/x-python",
   "name": "python",
   "nbconvert_exporter": "python",
   "pygments_lexer": "ipython3",
   "version": "3.9.12"
  }
 },
 "nbformat": 4,
 "nbformat_minor": 5
}
